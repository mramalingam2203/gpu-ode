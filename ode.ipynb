{
 "cells": [
  {
   "cell_type": "code",
   "execution_count": 34,
   "id": "32d067d2",
   "metadata": {},
   "outputs": [],
   "source": [
    "#Parameters common to all units (known)\n",
    "r = Float32(0.05);\n",
    "delta = Float32(0.15);\n",
    "lambda = Float32(0.015);\n",
    "v = Float32(0.15);\n",
    "etaA = Float32(-0.1);\n",
    "etaP = Float32(0.10);\n",
    "kappaH = log(3);\n",
    "kappaL = -log(3);\n",
    "\n",
    "k = [r, delta, lambda, v, etaA, etaP, kappaH, kappaL];\n"
   ]
  },
  {
   "cell_type": "code",
   "execution_count": null,
   "id": "0687958d",
   "metadata": {},
   "outputs": [],
   "source": []
  },
  {
   "cell_type": "code",
   "execution_count": 35,
   "id": "49a6adb8",
   "metadata": {},
   "outputs": [],
   "source": [
    "#Parameters common to all units (unknown)\n",
    "ksiH = Float32(0.1);\n",
    "ksiL = Float32(0.9);\n",
    "\n",
    "ksi = [ksiH, ksiL];"
   ]
  },
  {
   "cell_type": "code",
   "execution_count": null,
   "id": "57246b21",
   "metadata": {},
   "outputs": [],
   "source": []
  },
  {
   "cell_type": "code",
   "execution_count": 4,
   "id": "60f6d7fc",
   "metadata": {},
   "outputs": [
    {
     "data": {
      "text/plain": [
       "7-element Vector{Float32}:\n",
       "  0.0729\n",
       "  0.1\n",
       "  0.7559\n",
       "  0.128\n",
       " -0.037\n",
       " -0.0077\n",
       "  0.2017"
      ]
     },
     "execution_count": 4,
     "metadata": {},
     "output_type": "execute_result"
    }
   ],
   "source": [
    "# Parameters specific to each unit (known)\n",
    "mu = Float32(0.0729);\n",
    "alpha = Float32(0.10);\n",
    "sigmaP = Float32(0.7559);\n",
    "sigmaA = Float32(0.1280);\n",
    "rho =  Float32(-0.0370);\n",
    "chiA =  Float32(-0.0077);\n",
    "chiP = Float32(0.2017);\n",
    "\n",
    "\n",
    "k_g = [mu, alpha, sigmaP, sigmaA, rho, chiA,chiP];"
   ]
  },
  {
   "cell_type": "code",
   "execution_count": 36,
   "id": "d6430867",
   "metadata": {},
   "outputs": [],
   "source": [
    "# Parameters specific to each unit (unknown)\n",
    "theta = Float32(1.80);\n",
    "gamma = Float32(0.06);\n",
    "phiH = Float32(0.001);\n",
    "phiL = Float32(0.50);\n",
    "lH = Float32(0.8);\n",
    "lL = Float32(0.4);\n",
    "\n",
    "Kappa_g = [theta, gamma, phiH, phiL, lH, lL];"
   ]
  },
  {
   "cell_type": "code",
   "execution_count": null,
   "id": "de3ef032",
   "metadata": {},
   "outputs": [],
   "source": []
  },
  {
   "cell_type": "code",
   "execution_count": 6,
   "id": "222901ee",
   "metadata": {
    "jupyter": {
     "source_hidden": true
    }
   },
   "outputs": [],
   "source": [
    "# Initial guess for the unknown boundaries\n",
    "# x0 = [x_lH m_H m_L x_uH x_uL]\n",
    "\n",
    "x0 = [0.02 0.15 0.20 0.36 0.41];\n"
   ]
  },
  {
   "cell_type": "code",
   "execution_count": 7,
   "id": "eb8b8cce",
   "metadata": {},
   "outputs": [],
   "source": [
    "mutable struct params\n",
    "    r::Float64;delta::Float64;v::Float64;sigmaP::Float64;sigmaA::Float64;theta::Float64;lambda::Float64;\n",
    "    l::Float64;gamma::Float64;phi::Float64;ksi::Float64;etaA::Float64;etaP::Float64;chiA::Float64;chiP::Float64;\n",
    "    rho::Float64;alpha::Float64;mu::Float64\n",
    "end\n"
   ]
  },
  {
   "cell_type": "code",
   "execution_count": 37,
   "id": "d0ba5ad3",
   "metadata": {},
   "outputs": [
    {
     "data": {
      "text/plain": [
       "parameters (generic function with 1 method)"
      ]
     },
     "execution_count": 37,
     "metadata": {},
     "output_type": "execute_result"
    }
   ],
   "source": [
    "function parameters(k, ksi, k_g, Kappa_g)\n",
    "    #Create parameter structures for each state s = H, L\n",
    "    paramsH =  params(k[1],k[2],k[4],k_g[3],k_g[4],Kappa_g[1],k[3],Kappa_g[5],Kappa_g[2],Kappa_g[3],\n",
    "        exp(k[7])*ksi[1],k[5],k[6],k_g[6],k_g[7],k_g[5],k_g[2] - sigmaA * etaA * chiA,k_g[1] - sigmaP *etaP * chiP)\n",
    "\n",
    "    paramsL = params(k[1],k[2],k[4],k_g[3],k_g[4],Kappa_g[1],k[3],Kappa_g[6],Kappa_g[2],Kappa_g[4],\n",
    "        exp(k[8]) * ksi[2],k[5],k[6],k_g[6],k_g[7],k_g[5],k_g[2] - sigmaA * etaA * chiA,k_g[1] - sigmaP * etaP * chiP)\n",
    "\n",
    "    return [paramsL paramsH]\n",
    "end\n"
   ]
  },
  {
   "cell_type": "code",
   "execution_count": null,
   "id": "d7d69b13",
   "metadata": {},
   "outputs": [],
   "source": []
  },
  {
   "cell_type": "code",
   "execution_count": 38,
   "id": "913fffca",
   "metadata": {},
   "outputs": [
    {
     "data": {
      "text/plain": [
       "twoode (generic function with 1 method)"
      ]
     },
     "execution_count": 38,
     "metadata": {},
     "output_type": "execute_result"
    }
   ],
   "source": [
    "function twoode(c, f, region, paramsH, paramsL)\n",
    "    # ODE equations\n",
    "    a13 = 0.5 * (paramsH.sigmaP^2 * c^2 - 2 * paramsH.sigmaP *paramsH.sigmaA * paramsH.rho * c + paramsH.sigmaA^2)\n",
    "    a23 = 0.5 * (paramsL.sigmaP^2 * c^2 - 2 * paramsL.sigmaP *paramsL.sigmaA * paramsL.rho * c + paramsL.sigmaA^2)\n",
    "    i1 = (1 / paramsH.theta) * ((f[1] / f[2]) - c - 1) + paramsH.v\n",
    "    g_i1 = 0.5 * paramsH.theta * (i1 - paramsH.v)^2\n",
    "\n",
    "    i2 = (1 / paramsL.theta) * ((f[3] / f[4]) - c - 1) + paramsL.v\n",
    "    g_i2 = 0.5 * paramsL.theta * (i2 - paramsL.v)^2\n",
    "\n",
    "    a2 = (paramsH.r * f[1] - ((paramsH.r - paramsH.lambda) * c +\n",
    "        paramsH.alpha - i1 - g_i1) * f[2] - (i1 - paramsH.delta\n",
    "        + paramsH.mu) * (f[1] - c * f[2]) - paramsH.ksi *\n",
    "        (f[3] - f[1])) / a13\n",
    "\n",
    "    a4 = (paramsL.r * f[3] - ((paramsL.r - paramsL.lambda) * c +\n",
    "        paramsL.alpha - i2 - g_i2) * f[4] - (i2 - paramsL.delta\n",
    "        + paramsL.mu) * (f[3] - c * f[4]) - paramsL.ksi *\n",
    "        (f[1] - f[3])) / a23\n",
    "\n",
    "    dfdc = [f[2] a2 f[4] a4]\n",
    "\n",
    "    return dfdc\n",
    "end"
   ]
  },
  {
   "cell_type": "code",
   "execution_count": null,
   "id": "bb889c36",
   "metadata": {},
   "outputs": [],
   "source": []
  },
  {
   "cell_type": "code",
   "execution_count": 39,
   "id": "c78f39c8",
   "metadata": {},
   "outputs": [
    {
     "data": {
      "text/plain": [
       "twobc (generic function with 1 method)"
      ]
     },
     "execution_count": 39,
     "metadata": {},
     "output_type": "execute_result"
    }
   ],
   "source": [
    "function twobc(yl, yr, p, paramsH, paramsL)\n",
    "    # Boundary conditions\n",
    "    i1 = (1 / paramsH.theta) * (yr[1,4] - p[4] - 1) + paramsH.v;\n",
    "    g_i1 = 0.5 * paramsH.theta * (i1 - paramsH.v)^2;\n",
    "\n",
    "    i2 = (1 / paramsL.theta) * (yr[3,5] - p[5] - 1) + paramsL.v;\n",
    "    g_i2 = 0.5 * paramsL.theta * (i2 - paramsL.v)^2;\n",
    "\n",
    "    res = [\n",
    "            yl[3,1] - yr[3,3] + paramsL.phi +\n",
    "            (1 + paramsL.gamma) * p[3],\n",
    "\n",
    "            yl[1,2] - yr[1,2] + paramsH.phi +\n",
    "            (1 + paramsH.gamma) * (p[2] - p[1]),\n",
    "\n",
    "            yl[1,2] - yr[1,1],\n",
    "            yl[2,2] - yr[2,1],\n",
    "            yl[3,2] - yr[3,1],\n",
    "            yl[4,2] - yr[4,1],\n",
    "\n",
    "            # Conditions at m_H\n",
    "            yl[1,3] - yr[1,2],\n",
    "            yl[2,3] - yr[2,2],\n",
    "            yl[3,3] - yr[3,2],\n",
    "            yl[4,3] - yr[4,2],\n",
    "\n",
    "            # Conditions at m_L\n",
    "            yl[1,4] - yr[1,3],\n",
    "            yl[2,4] - yr[2,3],\n",
    "            yl[3,4] - yr[3,3],\n",
    "            yl[4,4] - yr[4,3],\n",
    "\n",
    "            # Conditions at upper boundary 1\n",
    "            yl[2,5] - yr[2,4],\n",
    "            yl[3,5] - yr[3,4],\n",
    "            yl[4,5] - yr[4,4],\n",
    "\n",
    "            # Conditions at upper boundary 2\n",
    "            yr[1,5] - yl[1,5] - p[5] + p[4],\n",
    "\n",
    "            paramsH.r * yr[1,4]- (i1 - paramsH.delta + paramsH.mu)*(yr[1,4] - p[4])-((paramsH.r - paramsH.lambda) * p[4] +paramsH.alpha - i1 - g_i1)- paramsH.ksi *(yr[3,4] - yr[1,4]),\n",
    "            paramsL.r * yr[3,5] - (i2 - paramsL.delta + paramsL.mu) *(yr[3,5] - p[5])- ((paramsL.r - paramsL.lambda) * p[5] +paramsL.alpha - i2 - g_i2) - paramsL.ksi * (yr[1,5] - yr[3,5])\n",
    "            ];\n",
    "end\n"
   ]
  },
  {
   "cell_type": "code",
   "execution_count": null,
   "id": "85ee2799",
   "metadata": {},
   "outputs": [],
   "source": []
  },
  {
   "cell_type": "code",
   "execution_count": 11,
   "id": "934d51fa",
   "metadata": {},
   "outputs": [
    {
     "data": {
      "text/plain": [
       "1×2 Matrix{params}:\n",
       " params(0.05, 0.15, 0.15, 0.7559, 0.128, 1.8, 0.015, 0.4, 0.06, 0.5, 0.3, -0.1, 0.1, -0.0077, 0.2017, -0.037, 0.0999014, 0.0576535)  …  params(0.05, 0.15, 0.15, 0.7559, 0.128, 1.8, 0.015, 0.8, 0.06, 0.001, 0.3, -0.1, 0.1, -0.0077, 0.2017, -0.037, 0.0999014, 0.0576535)"
      ]
     },
     "execution_count": 11,
     "metadata": {},
     "output_type": "execute_result"
    }
   ],
   "source": [
    "parameters(k, ksi, k_g, Kappa_g)"
   ]
  },
  {
   "cell_type": "code",
   "execution_count": 12,
   "id": "ed722838",
   "metadata": {},
   "outputs": [
    {
     "name": "stderr",
     "output_type": "stream",
     "text": [
      "\u001b[32m\u001b[1m    Updating\u001b[22m\u001b[39m registry at `~/.julia/registries/General`\n",
      "\u001b[32m\u001b[1m   Resolving\u001b[22m\u001b[39m package versions...\n",
      "\u001b[32m\u001b[1m   Installed\u001b[22m\u001b[39m FFTW_jll ─ v3.3.9+8\n",
      "\u001b[32m\u001b[1m  No Changes\u001b[22m\u001b[39m to `~/.julia/environments/v1.6/Project.toml`\n",
      "\u001b[32m\u001b[1m    Updating\u001b[22m\u001b[39m `~/.julia/environments/v1.6/Manifest.toml`\n",
      " \u001b[90m [f5851436] \u001b[39m\u001b[93m↑ FFTW_jll v3.3.9+7 ⇒ v3.3.9+8\u001b[39m\n",
      "\u001b[32m\u001b[1mPrecompiling\u001b[22m\u001b[39m project...\n",
      "\u001b[32m  ✓ \u001b[39m\u001b[90mFFTW_jll\u001b[39m\n",
      "\u001b[32m  ✓ \u001b[39m\u001b[90mFFTW\u001b[39m\n",
      "\u001b[32m  ✓ \u001b[39m\u001b[90mKernelDensity\u001b[39m\n",
      "\u001b[32m  ✓ \u001b[39mGadfly\n",
      "4 dependencies successfully precompiled in 23 seconds (70 already precompiled)\n"
     ]
    }
   ],
   "source": [
    "#using Pkg; Pkg.add(\"ODEInterface\")"
   ]
  },
  {
   "cell_type": "code",
   "execution_count": 40,
   "id": "1e0fac2b",
   "metadata": {},
   "outputs": [
    {
     "name": "stdout",
     "output_type": "stream",
     "text": [
      "\u001b[37m\u001b[1mTest Summary: | \u001b[22m\u001b[39m\u001b[32m\u001b[1mPass  \u001b[22m\u001b[39m\u001b[36m\u001b[1mTotal\u001b[22m\u001b[39m\n",
      "colnew        | \u001b[32m   2  \u001b[39m\u001b[36m    2\u001b[39m\n"
     ]
    },
    {
     "name": "stderr",
     "output_type": "stream",
     "text": [
      "WARNING: replacing module ODEInterfaceTest.\n"
     ]
    },
    {
     "data": {
      "text/plain": [
       "Main.ODEInterfaceTest"
      ]
     },
     "execution_count": 40,
     "metadata": {},
     "output_type": "execute_result"
    }
   ],
   "source": [
    "\"\"\"\n",
    "  Module for testing ODEInterface\n",
    "  \"\"\"\n",
    "module ODEInterfaceTest\n",
    "\n",
    "using Test\n",
    "\n",
    "using ODEInterface\n",
    "@ODEInterface.import_huge\n",
    "\n",
    "const solvers = (odex, odex_i32)\n",
    "\n",
    "const solvers_colnew  = ( colnew, colnew_i32 )\n",
    "\n",
    "\n",
    "\"\"\"\n",
    "  create a callable-type in order to check, if solvers\n",
    "  can handle callable-types (which are not a subclass of\n",
    "  Function) as right-hand sides.\n",
    "  \"\"\"\n",
    "mutable struct Callable_Type\n",
    "  param :: Float64\n",
    "end\n",
    "\n",
    "function (ct::Callable_Type)(t,x)\n",
    "  return ct.param*x\n",
    "end\n",
    "\n",
    "function mylinspace(a, b, length::Integer)\n",
    "  return collect(range(a, stop=b, length=length))\n",
    "end\n",
    "\n",
    "\n",
    "\n",
    "function test_colnew1(solver::Function)\n",
    "  a, b = -pi/2, pi/2 # x-tremes\n",
    "  orders = [1, 1,] # orders of equation\n",
    "  ζ = [a, b] # x-interval\n",
    " \n",
    "  ε = nothing  # parameter\n",
    "  ε_old = nothing # previous value of parameter\n",
    "  sol_old = nothing # previous step solution\n",
    "\n",
    "  function rhs(x, z, f)\n",
    "      s² = sin(x)^2 # \n",
    "      f[1] = (s²-z[2]*s²*s²/z[1])/ε\n",
    "      f[2] = 0.0\n",
    "  end\n",
    "  \n",
    "  function Drhs(x, z, df)\n",
    "      df[:] .= 0.0\n",
    "      s⁴ = sin(x)^4\n",
    "      df[1,1] = z[2]*s⁴/(z[1]^2)\n",
    "      df[1,2] = -s⁴/z[1]\n",
    "  end\n",
    "  \n",
    "  function bc(i, z, bc)\n",
    "      bc[1] = z[1]-1.0\n",
    "  end\n",
    "  \n",
    "  function Dbc(i, z, dbc)\n",
    "      dbc[1] = 1.0\n",
    "      dbc[2] = 0.0\n",
    "  end\n",
    "  \n",
    "  function initial_guess(x, z, dmz)\n",
    "      z[1] = 0.5\n",
    "      z[2] = 1.0\n",
    "      rhs(x, z, dmz)\n",
    "  end\n",
    "\n",
    "  opt = OptionsODE(\"colnew1\",\n",
    "        OPT_BVPCLASS => 2, OPT_COLLOCATIONPTS => 7,\n",
    "        OPT_RTOL => [1e-4, 1e-4], OPT_MAXSUBINTERVALS => 200)\n",
    "\n",
    "  sol = nothing\n",
    "  for ε_new = [1.0, 0.5, 0.2, 0.1]\n",
    "    ε = ε_new\n",
    "    guess = sol_old !== nothing ? sol_old : initial_guess    \n",
    "    sol, retcode, stats = colnew([a,b], orders, ζ, rhs, Drhs, bc, Dbc, guess ,opt);\n",
    "    @assert retcode>0\n",
    "    sol_old = sol; ε_old = ε\n",
    "  end\n",
    "  \n",
    "  z₀ = evalSolution(sol, 0.0)\n",
    "  @assert isapprox(z₀[1], 0.161671, rtol=1e-3,atol=1e-3)\n",
    "  @assert isapprox(z₀[2], 1.01863, rtol=1e-3,atol=1e-3)\n",
    "  return true\n",
    "end\n",
    "\n",
    "function test_colnew()\n",
    "  problems = (test_colnew1, )\n",
    "  @testset \"colnew\" begin\n",
    "    @testset for solver in solvers_colnew,\n",
    "                  problem in problems\n",
    "      @test problem(solver)\n",
    "    end\n",
    "  end\n",
    "end\n",
    "\n",
    "\n",
    "function test_all()\n",
    "  test_colnew()\n",
    "end\n",
    "\n",
    "test_all()\n",
    "\n",
    "end\n",
    "\n",
    "# vim:syn=julia:cc=79:fdm=indent:\n"
   ]
  },
  {
   "cell_type": "code",
   "execution_count": null,
   "id": "768b66c1",
   "metadata": {},
   "outputs": [],
   "source": []
  },
  {
   "cell_type": "code",
   "execution_count": 41,
   "id": "5163f325",
   "metadata": {},
   "outputs": [
    {
     "data": {
      "text/plain": [
       "(params(0.05000000074505806, 0.15000000596046448, 0.15000000596046448, 0.7559000253677368, 0.12800000607967377, 1.7999999523162842, 0.014999999664723873, 0.4000000059604645, 0.05999999865889549, 0.5, 0.299999992052714, -0.10000000149011612, 0.10000000149011612, -0.007699999958276749, 0.20170000195503235, -0.03700000047683716, 0.09990143775939941, 0.05765349417924881), params(0.05000000074505806, 0.15000000596046448, 0.15000000596046448, 0.7559000253677368, 0.12800000607967377, 1.7999999523162842, 0.014999999664723873, 0.800000011920929, 0.05999999865889549, 0.0010000000474974513, 0.3000000044703484, -0.10000000149011612, 0.10000000149011612, -0.007699999958276749, 0.20170000195503235, -0.03700000047683716, 0.09990143775939941, 0.05765349417924881))"
      ]
     },
     "execution_count": 41,
     "metadata": {},
     "output_type": "execute_result"
    }
   ],
   "source": [
    "b = [0.0485 0.1184 0.2597 0.4679 0.6719];\n",
    "parms = parameters(k, ksi, k_g, Kappa_g);\n",
    "parms[1], parms[2]"
   ]
  },
  {
   "cell_type": "code",
   "execution_count": null,
   "id": "35267212",
   "metadata": {},
   "outputs": [],
   "source": []
  },
  {
   "cell_type": "code",
   "execution_count": 21,
   "id": "3cd711d4",
   "metadata": {},
   "outputs": [],
   "source": [
    "f_init = [1 1 1 1];\n",
    "x_init = [0 b[1] b[1] b[2] b[2] b[3] b[3] b[4] b[4] b[5] ];\n"
   ]
  },
  {
   "cell_type": "code",
   "execution_count": 31,
   "id": "16874180",
   "metadata": {},
   "outputs": [
    {
     "data": {
      "text/plain": [
       "1×4 Matrix{Float64}:\n",
       " 2.0  -61.6227  4.0  57.0166"
      ]
     },
     "execution_count": 31,
     "metadata": {},
     "output_type": "execute_result"
    }
   ],
   "source": [
    "#  dummy check function ODE\n",
    "c = 0.1\n",
    "f = [1 2 3 4]\n",
    "region = 1\n",
    "twoode(c, f, region, parms[1], parms[2])"
   ]
  },
  {
   "cell_type": "code",
   "execution_count": 33,
   "id": "62edc651",
   "metadata": {},
   "outputs": [
    {
     "data": {
      "text/plain": [
       "20-element Vector{Float64}:\n",
       " -0.4990180003007874\n",
       "  0.49899399990625676\n",
       "  0.0\n",
       "  0.0\n",
       "  0.0\n",
       "  0.0\n",
       "  0.0\n",
       "  0.0\n",
       "  0.0\n",
       "  0.0\n",
       "  0.0\n",
       "  0.0\n",
       "  0.0\n",
       "  0.0\n",
       "  0.0\n",
       "  0.0\n",
       "  0.0\n",
       " -1.1102230246251565e-16\n",
       " -6.244159435178035e-6\n",
       "  3.4598981606691055e-5"
      ]
     },
     "execution_count": 33,
     "metadata": {},
     "output_type": "execute_result"
    }
   ],
   "source": [
    "\n",
    "# dummy check function residuals\n",
    "yl = [0.5538    0.5972    0.6723    0.8176    1.0246;\n",
    "    0.5667    1.0599    1.0600    1.0095    1.0000;\n",
    "    0.0339    0.4622    0.6386    0.8092    1.0219;\n",
    "   16.1030    4.4192    1.5753    1.0600    1.0042]\n",
    "\n",
    "yr = [0.5972    0.6723    0.8176    1.0263    1.2286;\n",
    "    1.0599    1.0600    1.0095    1.0000    1.0008;\n",
    "    0.4622    0.6386    0.8092    1.0219    1.2262;\n",
    "    4.4192    1.5753    1.0600    1.0042    1.0000]\n",
    "\n",
    "bc = twobc(yl, yr, b, parms[1], parms[2])\n"
   ]
  },
  {
   "cell_type": "markdown",
   "id": "598bed39",
   "metadata": {},
   "source": [
    "The only job is now to debug the COLNEW Julia interface and pipeline it to the current code"
   ]
  },
  {
   "cell_type": "code",
   "execution_count": null,
   "id": "6178d578",
   "metadata": {},
   "outputs": [],
   "source": []
  }
 ],
 "metadata": {
  "environment": {
   "name": "common-cu110.m69",
   "type": "gcloud",
   "uri": "gcr.io/deeplearning-platform-release/base-cu110:m69"
  },
  "kernelspec": {
   "display_name": "Julia 1.6.0",
   "language": "julia",
   "name": "julia-1.6"
  },
  "language_info": {
   "file_extension": ".jl",
   "mimetype": "application/julia",
   "name": "julia",
   "version": "1.6.0"
  }
 },
 "nbformat": 4,
 "nbformat_minor": 5
}
